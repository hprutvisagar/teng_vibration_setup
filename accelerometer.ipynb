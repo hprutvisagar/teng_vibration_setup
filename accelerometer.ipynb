{
 "cells": [
  {
   "cell_type": "code",
   "execution_count": 1,
   "metadata": {},
   "outputs": [
    {
     "ename": "SyntaxError",
     "evalue": "invalid syntax (1217700462.py, line 1)",
     "output_type": "error",
     "traceback": [
      "\u001b[1;36m  Cell \u001b[1;32mIn[1], line 1\u001b[1;36m\u001b[0m\n\u001b[1;33m    pip install adafruit-circuitpython-ble\u001b[0m\n\u001b[1;37m        ^\u001b[0m\n\u001b[1;31mSyntaxError\u001b[0m\u001b[1;31m:\u001b[0m invalid syntax\n"
     ]
    }
   ],
   "source": [
    "pip install adafruit-circuitpython-ble\n",
    "pip install adafruit-circuitpython-ble-uart\n",
    "pip install adafruit-circuitpython-lsm9ds1"
   ]
  },
  {
   "cell_type": "code",
   "execution_count": 3,
   "metadata": {},
   "outputs": [
    {
     "name": "stdout",
     "output_type": "stream",
     "text": [
      "Collecting adafruit-circuitpython-ble\n",
      "  Downloading adafruit_circuitpython_ble-10.0.7-py3-none-any.whl.metadata (3.8 kB)\n",
      "Collecting Adafruit-Blinka (from adafruit-circuitpython-ble)\n",
      "  Downloading Adafruit_Blinka-8.47.0-py3-none-any.whl.metadata (5.5 kB)\n",
      "Collecting adafruit-blinka-bleio (from adafruit-circuitpython-ble)\n",
      "  Downloading adafruit_blinka_bleio-4.1.2-py3-none-any.whl.metadata (5.7 kB)\n",
      "Collecting adafruit-circuitpython-typing (from adafruit-circuitpython-ble)\n",
      "  Downloading adafruit_circuitpython_typing-1.11.0-py3-none-any.whl.metadata (3.2 kB)\n",
      "Collecting typing-extensions~=4.0.0 (from adafruit-circuitpython-ble)\n",
      "  Downloading typing_extensions-4.0.1-py3-none-any.whl.metadata (1.7 kB)\n",
      "Collecting Adafruit-PlatformDetect>=3.70.1 (from Adafruit-Blinka->adafruit-circuitpython-ble)\n",
      "  Downloading Adafruit_PlatformDetect-3.73.0-py3-none-any.whl.metadata (3.8 kB)\n",
      "Collecting Adafruit-PureIO>=1.1.7 (from Adafruit-Blinka->adafruit-circuitpython-ble)\n",
      "  Downloading Adafruit_PureIO-1.1.11-py3-none-any.whl.metadata (3.0 kB)\n",
      "Collecting binho-host-adapter>=0.1.6 (from Adafruit-Blinka->adafruit-circuitpython-ble)\n",
      "  Downloading binho_host_adapter-0.1.6-py3-none-any.whl.metadata (2.0 kB)\n",
      "Collecting pyftdi>=0.40.0 (from Adafruit-Blinka->adafruit-circuitpython-ble)\n",
      "  Downloading pyftdi-0.55.4-py3-none-any.whl.metadata (3.2 kB)\n",
      "Collecting bleak (from adafruit-blinka-bleio->adafruit-circuitpython-ble)\n",
      "  Downloading bleak-0.22.2-py3-none-any.whl.metadata (5.4 kB)\n",
      "Collecting adafruit-circuitpython-busdevice (from adafruit-circuitpython-typing->adafruit-circuitpython-ble)\n",
      "  Downloading adafruit_circuitpython_busdevice-5.2.9-py3-none-any.whl.metadata (4.0 kB)\n",
      "Collecting adafruit-circuitpython-requests (from adafruit-circuitpython-typing->adafruit-circuitpython-ble)\n",
      "  Downloading adafruit_circuitpython_requests-4.1.6-py3-none-any.whl.metadata (3.6 kB)\n",
      "Collecting pyserial (from binho-host-adapter>=0.1.6->Adafruit-Blinka->adafruit-circuitpython-ble)\n",
      "  Downloading pyserial-3.5-py2.py3-none-any.whl.metadata (1.6 kB)\n",
      "Collecting pyusb!=1.2.0,>=1.0.0 (from pyftdi>=0.40.0->Adafruit-Blinka->adafruit-circuitpython-ble)\n",
      "  Downloading pyusb-1.2.1-py3-none-any.whl.metadata (2.2 kB)\n",
      "Collecting Adafruit-Circuitpython-ConnectionManager (from adafruit-circuitpython-requests->adafruit-circuitpython-typing->adafruit-circuitpython-ble)\n",
      "  Downloading adafruit_circuitpython_connectionmanager-3.1.1-py3-none-any.whl.metadata (4.5 kB)\n",
      "Collecting winrt-Windows.Devices.Bluetooth<3,>=2 (from bleak->adafruit-blinka-bleio->adafruit-circuitpython-ble)\n",
      "  Downloading winrt_Windows.Devices.Bluetooth-2.1.0-cp312-cp312-win_amd64.whl.metadata (1.6 kB)\n",
      "Collecting winrt-Windows.Devices.Bluetooth.Advertisement<3,>=2 (from bleak->adafruit-blinka-bleio->adafruit-circuitpython-ble)\n",
      "  Downloading winrt_Windows.Devices.Bluetooth.Advertisement-2.1.0-cp312-cp312-win_amd64.whl.metadata (1.4 kB)\n",
      "Collecting winrt-Windows.Devices.Bluetooth.GenericAttributeProfile<3,>=2 (from bleak->adafruit-blinka-bleio->adafruit-circuitpython-ble)\n",
      "  Downloading winrt_Windows.Devices.Bluetooth.GenericAttributeProfile-2.1.0-cp312-cp312-win_amd64.whl.metadata (1.5 kB)\n",
      "Collecting winrt-Windows.Devices.Enumeration<3,>=2 (from bleak->adafruit-blinka-bleio->adafruit-circuitpython-ble)\n",
      "  Downloading winrt_Windows.Devices.Enumeration-2.1.0-cp312-cp312-win_amd64.whl.metadata (1.5 kB)\n",
      "Collecting winrt-Windows.Foundation<3,>=2 (from bleak->adafruit-blinka-bleio->adafruit-circuitpython-ble)\n",
      "  Downloading winrt_Windows.Foundation-2.1.0-cp312-cp312-win_amd64.whl.metadata (1.0 kB)\n",
      "Collecting winrt-Windows.Foundation.Collections<3,>=2 (from bleak->adafruit-blinka-bleio->adafruit-circuitpython-ble)\n",
      "  Downloading winrt_Windows.Foundation.Collections-2.1.0-cp312-cp312-win_amd64.whl.metadata (1.1 kB)\n",
      "Collecting winrt-Windows.Storage.Streams<3,>=2 (from bleak->adafruit-blinka-bleio->adafruit-circuitpython-ble)\n",
      "  Downloading winrt_Windows.Storage.Streams-2.1.0-cp312-cp312-win_amd64.whl.metadata (1.3 kB)\n",
      "Collecting winrt-runtime<3,>=2 (from bleak->adafruit-blinka-bleio->adafruit-circuitpython-ble)\n",
      "  Downloading winrt_runtime-2.1.0-cp312-cp312-win_amd64.whl.metadata (733 bytes)\n",
      "Downloading adafruit_circuitpython_ble-10.0.7-py3-none-any.whl (37 kB)\n",
      "Downloading typing_extensions-4.0.1-py3-none-any.whl (22 kB)\n",
      "Downloading Adafruit_Blinka-8.47.0-py3-none-any.whl (356 kB)\n",
      "   ---------------------------------------- 0.0/356.1 kB ? eta -:--:--\n",
      "   ---------------------------------------  348.2/356.1 kB 7.2 MB/s eta 0:00:01\n",
      "   ---------------------------------------  348.2/356.1 kB 7.2 MB/s eta 0:00:01\n",
      "   ---------------------------------------  348.2/356.1 kB 7.2 MB/s eta 0:00:01\n",
      "   ---------------------------------------  348.2/356.1 kB 7.2 MB/s eta 0:00:01\n",
      "   ---------------------------------------  348.2/356.1 kB 7.2 MB/s eta 0:00:01\n",
      "   -------------------------------------- 356.1/356.1 kB 632.2 kB/s eta 0:00:00\n",
      "Downloading adafruit_blinka_bleio-4.1.2-py3-none-any.whl (25 kB)\n",
      "Downloading adafruit_circuitpython_typing-1.11.0-py3-none-any.whl (11 kB)\n",
      "Downloading Adafruit_PlatformDetect-3.73.0-py3-none-any.whl (24 kB)\n",
      "Downloading Adafruit_PureIO-1.1.11-py3-none-any.whl (10 kB)\n",
      "Downloading binho_host_adapter-0.1.6-py3-none-any.whl (10 kB)\n",
      "Downloading pyftdi-0.55.4-py3-none-any.whl (145 kB)\n",
      "   ---------------------------------------- 0.0/145.6 kB ? eta -:--:--\n",
      "   ---------------------------------------- 145.6/145.6 kB 8.5 MB/s eta 0:00:00\n",
      "Downloading adafruit_circuitpython_busdevice-5.2.9-py3-none-any.whl (7.5 kB)\n",
      "Downloading adafruit_circuitpython_requests-4.1.6-py3-none-any.whl (10 kB)\n",
      "Downloading bleak-0.22.2-py3-none-any.whl (142 kB)\n",
      "   ---------------------------------------- 0.0/142.6 kB ? eta -:--:--\n",
      "   ---------------------------------------- 142.6/142.6 kB 8.3 MB/s eta 0:00:00\n",
      "Downloading pyserial-3.5-py2.py3-none-any.whl (90 kB)\n",
      "   ---------------------------------------- 0.0/90.6 kB ? eta -:--:--\n",
      "   ---------------------------------------- 90.6/90.6 kB 5.4 MB/s eta 0:00:00\n",
      "Downloading pyusb-1.2.1-py3-none-any.whl (58 kB)\n",
      "   ---------------------------------------- 0.0/58.4 kB ? eta -:--:--\n",
      "   ---------------------------------------- 58.4/58.4 kB ? eta 0:00:00\n",
      "Downloading winrt_runtime-2.1.0-cp312-cp312-win_amd64.whl (209 kB)\n",
      "   ---------------------------------------- 0.0/209.1 kB ? eta -:--:--\n",
      "   ---------------------------------------- 209.1/209.1 kB 6.2 MB/s eta 0:00:00\n",
      "Downloading winrt_Windows.Devices.Bluetooth-2.1.0-cp312-cp312-win_amd64.whl (101 kB)\n",
      "   ---------------------------------------- 0.0/101.8 kB ? eta -:--:--\n",
      "   ---------------------------------------- 101.8/101.8 kB 5.7 MB/s eta 0:00:00\n",
      "Downloading winrt_Windows.Devices.Bluetooth.Advertisement-2.1.0-cp312-cp312-win_amd64.whl (79 kB)\n",
      "   ---------------------------------------- 0.0/79.3 kB ? eta -:--:--\n",
      "   ---------------------------------------- 79.3/79.3 kB 4.3 MB/s eta 0:00:00\n",
      "Downloading winrt_Windows.Devices.Bluetooth.GenericAttributeProfile-2.1.0-cp312-cp312-win_amd64.whl (167 kB)\n",
      "   ---------------------------------------- 0.0/167.8 kB ? eta -:--:--\n",
      "   ---------------------------------------- 167.8/167.8 kB 4.9 MB/s eta 0:00:00\n",
      "Downloading winrt_Windows.Devices.Enumeration-2.1.0-cp312-cp312-win_amd64.whl (121 kB)\n",
      "   ---------------------------------------- 0.0/121.8 kB ? eta -:--:--\n",
      "   ---------------------------------------- 121.8/121.8 kB 3.5 MB/s eta 0:00:00\n",
      "Downloading winrt_Windows.Foundation-2.1.0-cp312-cp312-win_amd64.whl (95 kB)\n",
      "   ---------------------------------------- 0.0/95.8 kB ? eta -:--:--\n",
      "   ---------------------------------------- 95.8/95.8 kB 5.3 MB/s eta 0:00:00\n",
      "Downloading winrt_Windows.Foundation.Collections-2.1.0-cp312-cp312-win_amd64.whl (58 kB)\n",
      "   ---------------------------------------- 0.0/58.7 kB ? eta -:--:--\n",
      "   ---------------------------------------- 58.7/58.7 kB 3.0 MB/s eta 0:00:00\n",
      "Downloading winrt_Windows.Storage.Streams-2.1.0-cp312-cp312-win_amd64.whl (104 kB)\n",
      "   ---------------------------------------- 0.0/104.0 kB ? eta -:--:--\n",
      "   ---------------------------------------- 104.0/104.0 kB 6.3 MB/s eta 0:00:00\n",
      "Downloading adafruit_circuitpython_connectionmanager-3.1.1-py3-none-any.whl (7.8 kB)\n",
      "Installing collected packages: pyserial, Adafruit-PlatformDetect, winrt-runtime, typing-extensions, pyusb, binho-host-adapter, Adafruit-PureIO, winrt-Windows.Storage.Streams, winrt-Windows.Foundation.Collections, winrt-Windows.Foundation, winrt-Windows.Devices.Enumeration, winrt-Windows.Devices.Bluetooth.GenericAttributeProfile, winrt-Windows.Devices.Bluetooth.Advertisement, winrt-Windows.Devices.Bluetooth, pyftdi, bleak, Adafruit-Circuitpython-ConnectionManager, adafruit-circuitpython-requests, adafruit-circuitpython-busdevice, Adafruit-Blinka, adafruit-circuitpython-typing, adafruit-blinka-bleio, adafruit-circuitpython-ble\n",
      "  Attempting uninstall: typing-extensions\n",
      "    Found existing installation: typing_extensions 4.11.0\n",
      "    Uninstalling typing_extensions-4.11.0:\n",
      "      Successfully uninstalled typing_extensions-4.11.0\n",
      "Successfully installed Adafruit-Blinka-8.47.0 Adafruit-Circuitpython-ConnectionManager-3.1.1 Adafruit-PlatformDetect-3.73.0 Adafruit-PureIO-1.1.11 adafruit-blinka-bleio-4.1.2 adafruit-circuitpython-ble-10.0.7 adafruit-circuitpython-busdevice-5.2.9 adafruit-circuitpython-requests-4.1.6 adafruit-circuitpython-typing-1.11.0 binho-host-adapter-0.1.6 bleak-0.22.2 pyftdi-0.55.4 pyserial-3.5 pyusb-1.2.1 typing-extensions-4.0.1 winrt-Windows.Devices.Bluetooth-2.1.0 winrt-Windows.Devices.Bluetooth.Advertisement-2.1.0 winrt-Windows.Devices.Bluetooth.GenericAttributeProfile-2.1.0 winrt-Windows.Devices.Enumeration-2.1.0 winrt-Windows.Foundation-2.1.0 winrt-Windows.Foundation.Collections-2.1.0 winrt-Windows.Storage.Streams-2.1.0 winrt-runtime-2.1.0\n",
      "Note: you may need to restart the kernel to use updated packages.\n"
     ]
    },
    {
     "name": "stderr",
     "output_type": "stream",
     "text": [
      "ERROR: pip's dependency resolver does not currently take into account all the packages that are installed. This behaviour is the source of the following dependency conflicts.\n",
      "mypy 1.10.0 requires typing-extensions>=4.1.0, but you have typing-extensions 4.0.1 which is incompatible.\n",
      "pydantic 2.5.3 requires typing-extensions>=4.6.1, but you have typing-extensions 4.0.1 which is incompatible.\n",
      "pydantic-core 2.14.6 requires typing-extensions!=4.7.0,>=4.6.0, but you have typing-extensions 4.0.1 which is incompatible.\n",
      "sqlalchemy 2.0.30 requires typing-extensions>=4.6.0, but you have typing-extensions 4.0.1 which is incompatible.\n",
      "streamlit 1.32.0 requires typing-extensions<5,>=4.3.0, but you have typing-extensions 4.0.1 which is incompatible.\n",
      "twisted 23.10.0 requires typing-extensions>=4.2.0, but you have typing-extensions 4.0.1 which is incompatible.\n"
     ]
    }
   ],
   "source": [
    "pip install adafruit-circuitpython-ble"
   ]
  }
 ],
 "metadata": {
  "kernelspec": {
   "display_name": "base",
   "language": "python",
   "name": "python3"
  },
  "language_info": {
   "codemirror_mode": {
    "name": "ipython",
    "version": 3
   },
   "file_extension": ".py",
   "mimetype": "text/x-python",
   "name": "python",
   "nbconvert_exporter": "python",
   "pygments_lexer": "ipython3",
   "version": "3.12.4"
  }
 },
 "nbformat": 4,
 "nbformat_minor": 2
}
