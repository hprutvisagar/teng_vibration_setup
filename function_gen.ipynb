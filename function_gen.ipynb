{
 "cells": [
  {
   "cell_type": "code",
   "execution_count": 1,
   "metadata": {},
   "outputs": [],
   "source": [
    "import pyvisa"
   ]
  },
  {
   "cell_type": "code",
   "execution_count": 2,
   "metadata": {},
   "outputs": [
    {
     "name": "stdout",
     "output_type": "stream",
     "text": [
      "('USB0::0x0957::0x0407::MY44006835::INSTR', 'ASRL1::INSTR', 'ASRL2::INSTR', 'ASRL10::INSTR', 'USB0::0x0957::0x0107::MY43498293::INSTR', 'USB0::0x0957::0x0407::MY44006835::INSTR', 'GPIB0::13::INSTR', 'GPIB1::13::INSTR', 'GPIB1::17::INSTR', 'USB0::0x0AAD::0x01D6::111986::0::INSTR', 'USB0::0x2A8D::0x0101::MY59013137::0::INSTR')\n"
     ]
    }
   ],
   "source": [
    "rm = pyvisa.ResourceManager()\n",
    "print(rm.list_resources())\n"
   ]
  },
  {
   "cell_type": "code",
   "execution_count": 3,
   "metadata": {},
   "outputs": [
    {
     "name": "stdout",
     "output_type": "stream",
     "text": [
      "fun_gen IDN: Agilent Technologies,33220A,MY44006835,2.00-2.00-22-2\n",
      "\n"
     ]
    }
   ],
   "source": [
    "fun_gen = rm.open_resource('USB0::0x0957::0x0407::MY44006835::INSTR')\n",
    "\n",
    "idn = fun_gen.query('*IDN?')\n",
    "print(\"fun_gen IDN:\", idn)\n",
    "\n",
    "fun_gen.close()"
   ]
  },
  {
   "cell_type": "code",
   "execution_count": 12,
   "metadata": {},
   "outputs": [],
   "source": [
    "# sending a command to function generator\n",
    "\n",
    "fun_gen = rm.open_resource('USB0::0x0957::0x0407::MY44006835::INSTR')\n",
    "\n",
    "fun_gen.write('APPL:SIN 5.0, 3.0, 0') # syntax 'APPL: SIN Freq, VPP, Offset'      \n",
    "# SIN----> for sine wave\n",
    "# TRI---->for triangular wave\n",
    "# SQU---->for square wave\n",
    "\n",
    "# https://ecelabs.njit.edu/student_resources/33220_user_guide.pdf -----> reference guide\n",
    "\n",
    "fun_gen.close()\n"
   ]
  }
 ],
 "metadata": {
  "kernelspec": {
   "display_name": "base",
   "language": "python",
   "name": "python3"
  },
  "language_info": {
   "codemirror_mode": {
    "name": "ipython",
    "version": 3
   },
   "file_extension": ".py",
   "mimetype": "text/x-python",
   "name": "python",
   "nbconvert_exporter": "python",
   "pygments_lexer": "ipython3",
   "version": "3.12.4"
  }
 },
 "nbformat": 4,
 "nbformat_minor": 2
}
